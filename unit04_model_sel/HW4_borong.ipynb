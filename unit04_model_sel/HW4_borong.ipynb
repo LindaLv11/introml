{
 "cells": [
  {
   "cell_type": "markdown",
   "metadata": {},
   "source": [
    "## 2."
   ]
  },
  {
   "cell_type": "code",
   "execution_count": null,
   "metadata": {},
   "outputs": [],
   "source": [
    "from sklearn.cross_validation import train_test_split\n",
    "\n",
    "dtotal = 10\n",
    "X = np.exp((- u / dtotal))\n",
    "\n",
    "xtr, xts, ytr, yts = train_test_split(X, y, test_size = 0.5)\n",
    "\n",
    "dtest = np.array(range(0,dtotal))\n",
    "MEStest = []\n",
    "\n",
    "for d in dtest:\n",
    "    \n",
    "    # Fit data\n",
    "    beta_hat = poly.polyfit(xtr,ytr,d)\n",
    "    \n",
    "    # Measure RSS on test data\n",
    "    yhat = poly.polyval(xts,beta_hat)\n",
    "    MSE = (np.mean(yhat-yts))**2\n",
    "    MSEtest.append(MSE)\n",
    "    \n",
    "imin = np.argmin(MSEtest)"
   ]
  },
  {
   "cell_type": "markdown",
   "metadata": {},
   "source": [
    "## 3."
   ]
  },
  {
   "cell_type": "markdown",
   "metadata": {},
   "source": [
    "a)"
   ]
  },
  {
   "cell_type": "markdown",
   "metadata": {},
   "source": [
    "$Bias(x) := E(f(x, \\widehat{\\beta })) - f(x,\\beta _{0})$\n",
    "\n",
    "$=E(\\frac{\\sum_{i=1}^{N}y_{i}}{\\sum_{i=1}^{N}x_{i}^{2}} X^{2}) - \\beta _{0}X^{2}$\n",
    "\n",
    "$=E(\\frac{\\sum_{i=1}^{N}\\beta _{0}x_{i}^{2}}{\\sum_{i=1}^{N}x_{i}^{2}} X^{2}) - \\beta _{0}X^{2} = 0$"
   ]
  },
  {
   "cell_type": "markdown",
   "metadata": {},
   "source": [
    "b)"
   ]
  },
  {
   "cell_type": "markdown",
   "metadata": {},
   "source": [
    "$Bias(x) := E(f(x, \\widehat{\\beta })) - f(x,\\beta _{0})$\n",
    "\n",
    "$=E(\\frac{\\sum_{i=1}^{N}y_{i}}{\\sum_{i=1}^{N}x_{i}^{2}} X^{2}) - \\beta _{0}X^{2}$\n",
    "\n",
    "\n",
    "\n",
    "$=E(\\frac{\\sum_{i=1}^{N}(\\beta _{0}x_{i}^{2} + \\varepsilon _{i})}{\\sum_{i=1}^{N}x_{i}^{2}} X^{2}) - \\beta _{0}X^{2} = 0$\n"
   ]
  },
  {
   "cell_type": "markdown",
   "metadata": {},
   "source": [
    "c)"
   ]
  },
  {
   "cell_type": "markdown",
   "metadata": {},
   "source": [
    "$Bias(x) := E(f(x, \\widehat{\\beta })) - f(x,\\beta _{0})$\n",
    "\n",
    "$=E(\\frac{\\sum_{i=1}^{N}y_{i}}{\\sum_{i=1}^{N}x_{i}^{2}} X^{2}) - \\beta _{0}X^{2}$\n",
    "\n",
    "$=E(\\frac{\\sum_{i=1}^{N}\\beta _{0}(x_{i} + \\varepsilon _{i})^{2}}{\\sum_{i=1}^{N}x_{i}^{2}} X^{2}) - \\beta _{0}X^{2} $\n",
    "\n",
    "$= \\frac{\\beta _{0}E(\\sum_{i=1}^{N}x_{i}^{2})+\\sigma ^{2}}{E(\\sum_{i=1}^{N}x_{i}^{2})}$"
   ]
  },
  {
   "cell_type": "markdown",
   "metadata": {},
   "source": [
    "## 4."
   ]
  },
  {
   "cell_type": "markdown",
   "metadata": {},
   "source": [
    "a)"
   ]
  },
  {
   "cell_type": "markdown",
   "metadata": {},
   "source": [
    "$\\widehat{\\beta} = (A^{T}A)^{-1}A^{T}Y$"
   ]
  },
  {
   "cell_type": "markdown",
   "metadata": {},
   "source": [
    "b)"
   ]
  },
  {
   "cell_type": "markdown",
   "metadata": {},
   "source": [
    "$\\widehat{\\beta} = (A^{T}A)^{-1}A^{T}B\\beta _{0}$\n",
    "\n",
    "$B = \\begin{bmatrix}\n",
    "1 & x_{1} & x_{1}^{2}\\\\ \n",
    "1 & x_{2} & x_{2}^{2}\\\\ \n",
    "... &... & ...\\\\ \n",
    "1 & x_{n} & x_{n}^{2}\n",
    "\\end{bmatrix}$"
   ]
  },
  {
   "cell_type": "markdown",
   "metadata": {},
   "source": [
    "c)"
   ]
  },
  {
   "cell_type": "code",
   "execution_count": 28,
   "metadata": {},
   "outputs": [],
   "source": [
    "import numpy as np\n",
    "import numpy.polynomial.polynomial as poly\n",
    "import matplotlib.pyplot as plt\n",
    "xdat = np.random.uniform(0,1,10)\n",
    "beta = np.array([1,2,-1])\n",
    "y0 = poly.polyval(xdat,beta)\n",
    "xp = np.linspace(0,3,100)\n",
    "beta_hat = poly.polyfit(xdat,y0,1)\n",
    "# predict function:\n",
    "yp_hat = poly.polyval(xp,beta_hat)\n",
    "# plot true function\n",
    "yp = poly.polyval(xp,beta)"
   ]
  },
  {
   "cell_type": "code",
   "execution_count": 29,
   "metadata": {},
   "outputs": [
    {
     "data": {
      "image/png": "[encoded data removed]",
      "text/plain": [
       "<matplotlib.figure.Figure at 0x7f3c2cd95c50>"
      ]
     },
     "metadata": {},
     "output_type": "display_data"
    }
   ],
   "source": [
    "plt.figure(figsize = (10,5))\n",
    "plt.plot(xdat,y0,'o',linewidth=2,label ='train')\n",
    "plt.legend()\n",
    "plt.plot(xp,yp_hat,'g',linewidth=2, label= 'predict function')\n",
    "plt.legend()\n",
    "plt.plot(xp,yp,'r',linewidth = 2, label = 'true')\n",
    "plt.legend()\n",
    "plt.xlim([0,3])\n",
    "plt.xlabel('x')\n",
    "plt.ylabel('y')\n",
    "plt.grid()\n",
    "plt.show()"
   ]
  },
  {
   "cell_type": "markdown",
   "metadata": {},
   "source": [
    "d)"
   ]
  },
  {
   "cell_type": "markdown",
   "metadata": {},
   "source": [
    "For x = 3"
   ]
  },
  {
   "cell_type": "markdown",
   "metadata": {},
   "source": [
    "## 5."
   ]
  },
  {
   "cell_type": "markdown",
   "metadata": {},
   "source": [
    "(a)"
   ]
  },
  {
   "cell_type": "markdown",
   "metadata": {},
   "source": [
    "Model 1:\n",
    "\n",
    "$x_{1}$ = cancer volume\n",
    "\n",
    "$\\widehat{y} = \\beta_{0} + \\beta_{1}x_{1}$\n",
    "\n",
    "Model 2:\n",
    "\n",
    "$x_{1}$ = cancer volume\n",
    "\n",
    "$x_{2}$ = age\n",
    "\n",
    "$\\widehat{y} = \\beta_{0} + \\beta_{1}x_{1} + \\beta_{2}x_{2}$\n",
    "\n",
    "Model 3:\n",
    "\n",
    "$ \\widehat{y} = \\beta_{01} + \\beta_{11}x_{1} + \\beta_{21}x_{2}$\n",
    "\n",
    "If type I\n",
    "\n",
    "\n",
    "$ \\widehat{y} = \\beta_{02} + \\beta_{12}x_{1} + \\beta_{22}x_{2}$\n",
    "\n",
    "If type II"
   ]
  },
  {
   "cell_type": "markdown",
   "metadata": {},
   "source": [
    "(b) \n",
    "\n",
    "Model 1: 2\n",
    "\n",
    "Model 2: 3\n",
    "\n",
    "Model 3:  6   Most Complex"
   ]
  },
  {
   "cell_type": "markdown",
   "metadata": {},
   "source": [
    "(c)\n",
    "\n",
    "Model 1:\n",
    "\n",
    "$A = \\begin{bmatrix}\n",
    "1 & 0.7\\\\ \n",
    "1 & 1.3\\\\ \n",
    "1 & 1.6\n",
    "\\end{bmatrix}$\n",
    "\n",
    "Model 2:\n",
    "\n",
    "$A = \\begin{bmatrix}\n",
    "1 & 0.7 & 55\\\\ \n",
    "1 & 1.3 & 65\\\\ \n",
    "1 & 1.6 & 70\n",
    "\\end{bmatrix}$\n",
    "\n",
    "\n",
    "Model 3 :\n",
    "\n",
    "$A = \\begin{bmatrix}\n",
    "1 & 0.7 & 55\\\\ \n",
    "1 & 1.3 & 65\\\\ \n",
    "1 & 1.6 & 70\n",
    "\\end{bmatrix}$"
   ]
  },
  {
   "cell_type": "markdown",
   "metadata": {},
   "source": [
    "(D)"
   ]
  },
  {
   "cell_type": "markdown",
   "metadata": {},
   "source": [
    "The third one"
   ]
  }
 ],
 "metadata": {
  "kernelspec": {
   "display_name": "myEnv",
   "language": "python",
   "name": "myenv"
  },
  "language_info": {
   "codemirror_mode": {
    "name": "ipython",
    "version": 3
   },
   "file_extension": ".py",
   "mimetype": "text/x-python",
   "name": "python",
   "nbconvert_exporter": "python",
   "pygments_lexer": "ipython3",
   "version": "3.6.8"
  }
 },
 "nbformat": 4,
 "nbformat_minor": 2
}
