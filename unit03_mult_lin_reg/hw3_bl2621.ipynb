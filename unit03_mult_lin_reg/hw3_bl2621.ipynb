{
 "cells": [
  {
   "cell_type": "markdown",
   "metadata": {},
   "source": [
    "## 1."
   ]
  },
  {
   "cell_type": "markdown",
   "metadata": {},
   "source": [
    "a. Target variable: sales\n",
    "\n",
    "b. sales = $\\beta _{1}$ * reviews score + $\\beta _{2}$ *frequency of 'bad' + $\\beta _{3}$ *frequency of 'good' + $\\beta _{4}$ *frequency of 'doesn't work'\n",
    "\n",
    "c. For scores range from 1 to 10. Divide them by 10 and then multiply by 5.\n",
    "\n",
    "d. map : good to 5. bad to 1. For reviews without numeric rating, apply a sentimental analysis \n",
    "\n",
    "e. (b)"
   ]
  },
  {
   "cell_type": "markdown",
   "metadata": {},
   "source": [
    "## 2."
   ]
  },
  {
   "cell_type": "markdown",
   "metadata": {},
   "source": [
    "y = $\\beta _{1}$ * $x _{i1}$ + $\\beta _{2}$ * $x _{i2}$ + b "
   ]
  },
  {
   "cell_type": "code",
   "execution_count": 3,
   "metadata": {},
   "outputs": [],
   "source": [
    "import pandas as pd\n",
    "from sklearn.linear_model import LinearRegression"
   ]
  },
  {
   "cell_type": "code",
   "execution_count": 5,
   "metadata": {},
   "outputs": [],
   "source": [
    "q2 = pd.DataFrame(data = {'x_1':[0,0,1,1], 'x_2':[0,1,0,1], 'y':[1,4,3,7]})"
   ]
  },
  {
   "cell_type": "code",
   "execution_count": 6,
   "metadata": {},
   "outputs": [
    {
     "data": {
      "text/html": [
       "<div>\n",
       "<table border=\"1\" class=\"dataframe\">\n",
       "  <thead>\n",
       "    <tr style=\"text-align: right;\">\n",
       "      <th></th>\n",
       "      <th>x_1</th>\n",
       "      <th>x_2</th>\n",
       "      <th>y</th>\n",
       "    </tr>\n",
       "  </thead>\n",
       "  <tbody>\n",
       "    <tr>\n",
       "      <th>0</th>\n",
       "      <td>0</td>\n",
       "      <td>0</td>\n",
       "      <td>1</td>\n",
       "    </tr>\n",
       "    <tr>\n",
       "      <th>1</th>\n",
       "      <td>0</td>\n",
       "      <td>1</td>\n",
       "      <td>4</td>\n",
       "    </tr>\n",
       "    <tr>\n",
       "      <th>2</th>\n",
       "      <td>1</td>\n",
       "      <td>0</td>\n",
       "      <td>3</td>\n",
       "    </tr>\n",
       "    <tr>\n",
       "      <th>3</th>\n",
       "      <td>1</td>\n",
       "      <td>1</td>\n",
       "      <td>7</td>\n",
       "    </tr>\n",
       "  </tbody>\n",
       "</table>\n",
       "</div>"
      ],
      "text/plain": [
       "   x_1  x_2  y\n",
       "0    0    0  1\n",
       "1    0    1  4\n",
       "2    1    0  3\n",
       "3    1    1  7"
      ]
     },
     "execution_count": 6,
     "metadata": {},
     "output_type": "execute_result"
    }
   ],
   "source": [
    "q2"
   ]
  },
  {
   "cell_type": "code",
   "execution_count": 10,
   "metadata": {},
   "outputs": [
    {
     "data": {
      "text/plain": [
       "array([ 2.5,  3.5])"
      ]
     },
     "execution_count": 10,
     "metadata": {},
     "output_type": "execute_result"
    }
   ],
   "source": [
    "LinearRegression().fit(q2[['x_1','x_2']],q2['y']).coef_"
   ]
  },
  {
   "cell_type": "code",
   "execution_count": 11,
   "metadata": {},
   "outputs": [
    {
     "data": {
      "text/plain": [
       "0.75000000000000044"
      ]
     },
     "execution_count": 11,
     "metadata": {},
     "output_type": "execute_result"
    }
   ],
   "source": [
    "LinearRegression().fit(q2[['x_1','x_2']],q2['y']).intercept_"
   ]
  },
  {
   "cell_type": "markdown",
   "metadata": {},
   "source": [
    "y = 2.5 * $x _{i1}$ + 3.5 * $x _{i2}$ + 0.75"
   ]
  },
  {
   "cell_type": "markdown",
   "metadata": {},
   "source": [
    "## 3."
   ]
  },
  {
   "cell_type": "markdown",
   "metadata": {},
   "source": [
    "a.\n",
    "\n",
    "$\\beta _{1}$ =  $a _{1}$\n",
    " \n",
    "$\\beta _{2}$ =  $a _{2}$\n",
    "\n",
    "$\\phi(x_{1}, x_{2}) = [x_{1} e^{-x_{1}-x_{2}}, x_{2} e^{-x_{1}-x_{2}} ]$"
   ]
  },
  {
   "cell_type": "markdown",
   "metadata": {},
   "source": [
    "b. \n",
    "Two binary features: \n",
    "\n",
    "$x < 1, \\phi_{1} = 1, \\phi_{2} = 0$\n",
    "\n",
    "$x \\geq 1, \\phi_{1} = 0, \\phi_{2} = 1$\n",
    "\n",
    "$\\beta _{1}$ =  $\\phi _{1}a_{1} + \\phi_{2}a_{3}$\n",
    " \n",
    "$\\beta _{2}$ =  $\\phi _{1}a_{2} + \\phi_{2}a_{4}$\n",
    "\n",
    "$ a_{1} = \\frac{\\beta_{1}-\\phi_{2} a_{3}} {\\phi_{1}} $\n",
    "...\n",
    "\n",
    "\n",
    "$\\phi(x) = [1, x]$\n",
    "\n"
   ]
  },
  {
   "cell_type": "markdown",
   "metadata": {},
   "source": [
    "c. \n",
    "\n",
    "$\\beta _{1}$ =  $e^{a_{2}}$\n",
    " \n",
    "$\\beta _{2}$ =  $a_{1}e^{a_{2}}$\n"
   ]
  },
  {
   "cell_type": "markdown",
   "metadata": {},
   "source": [
    "$\\phi(x_{1}, x_{2})= [e^{-x_{2}}, x_{1}e^{-x_{2}}]$"
   ]
  },
  {
   "cell_type": "markdown",
   "metadata": {},
   "source": [
    "## 4."
   ]
  },
  {
   "cell_type": "markdown",
   "metadata": {},
   "source": [
    "$\\beta =[a_{1}, a_{2}...a_{M}, b_{0}, b_{1}...,b{N}]^{T}$"
   ]
  },
  {
   "cell_type": "markdown",
   "metadata": {},
   "source": [
    "M + N + 1 parameters\n",
    "\n",
    "b.\n",
    "\n",
    "$  A = \\left [ y_{k-1}, y_{k-2}, ...y_{k-M}, x_{k}, x_{k-1},...x_{k-N} \\right ]$\n",
    "\n",
    "c.\n",
    "\n"
   ]
  },
  {
   "cell_type": "markdown",
   "metadata": {},
   "source": [
    "## 5."
   ]
  },
  {
   "cell_type": "markdown",
   "metadata": {},
   "source": [
    "a.\n",
    "\n",
    "$ x_{k} = cos^{m}ksin^{\\Omega _{l}-m}k $\n",
    "\n",
    "$\\beta_{l} = a_{l}\\sum_{m=0}^{\\Omega _{l}}\\binom{\\Omega }{m}cos[\\frac{1}{2}(\\Omega _{l}-m)\\pi ]+b_{l}\\sum_{m=0}^{\\Omega _{l}}\\binom{\\Omega }{m}sin[\\frac{1}{2}(\\Omega _{l}-m)\\pi ]$"
   ]
  },
  {
   "cell_type": "markdown",
   "metadata": {},
   "source": [
    "b. it would not be a nonlinear problem. "
   ]
  },
  {
   "cell_type": "markdown",
   "metadata": {},
   "source": [
    "## 6."
   ]
  },
  {
   "cell_type": "markdown",
   "metadata": {},
   "source": [
    "## a."
   ]
  },
  {
   "cell_type": "code",
   "execution_count": 150,
   "metadata": {},
   "outputs": [],
   "source": [
    "import numpy as np"
   ]
  },
  {
   "cell_type": "code",
   "execution_count": 220,
   "metadata": {},
   "outputs": [],
   "source": [
    "n = 3\n",
    "p = 3\n",
    "X = np.random.randn(n,p)\n",
    "beta = np.random.randn(p,1)"
   ]
  },
  {
   "cell_type": "code",
   "execution_count": 221,
   "metadata": {},
   "outputs": [
    {
     "data": {
      "text/plain": [
       "array([[-0.72040513,  0.05765048,  0.84692716],\n",
       "       [-0.57428663,  0.42413205, -1.02341032],\n",
       "       [ 1.23488009,  0.87161547, -1.11317551]])"
      ]
     },
     "execution_count": 221,
     "metadata": {},
     "output_type": "execute_result"
    }
   ],
   "source": [
    "X"
   ]
  },
  {
   "cell_type": "code",
   "execution_count": 222,
   "metadata": {},
   "outputs": [],
   "source": [
    "n = X.shape[0]\n",
    "yhat = np.zeros(n)\n",
    "for i in range(n):\n",
    "    yhat[i] = beta[0] * X[i,0] + beta[1] * X[i,1] + beta[2] * X[i, 1] * X[i,2]"
   ]
  },
  {
   "cell_type": "code",
   "execution_count": 223,
   "metadata": {},
   "outputs": [
    {
     "data": {
      "text/plain": [
       "array([-0.1241082 ,  0.86901518,  2.28120622])"
      ]
     },
     "execution_count": 223,
     "metadata": {},
     "output_type": "execute_result"
    }
   ],
   "source": [
    "yhat"
   ]
  },
  {
   "cell_type": "markdown",
   "metadata": {},
   "source": [
    "## Rewrite without for loop:"
   ]
  },
  {
   "cell_type": "code",
   "execution_count": 224,
   "metadata": {},
   "outputs": [],
   "source": [
    "X_2 = np.array([X[:,0], X[:,1], X[:,1] * X[:,2]])"
   ]
  },
  {
   "cell_type": "code",
   "execution_count": 225,
   "metadata": {},
   "outputs": [
    {
     "data": {
      "text/plain": [
       "array([[-0.72040513,  0.05765048,  0.04882575],\n",
       "       [-0.57428663,  0.42413205, -0.43406111],\n",
       "       [ 1.23488009,  0.87161547, -0.970261  ]])"
      ]
     },
     "execution_count": 225,
     "metadata": {},
     "output_type": "execute_result"
    }
   ],
   "source": [
    "X_2.T"
   ]
  },
  {
   "cell_type": "code",
   "execution_count": 226,
   "metadata": {},
   "outputs": [
    {
     "data": {
      "text/plain": [
       "array([[-0.1241082 ],\n",
       "       [ 0.86901518],\n",
       "       [ 2.28120622]])"
      ]
     },
     "execution_count": 226,
     "metadata": {},
     "output_type": "execute_result"
    }
   ],
   "source": [
    "np.dot(X_2.T,beta)"
   ]
  },
  {
   "cell_type": "markdown",
   "metadata": {},
   "source": [
    "# b."
   ]
  },
  {
   "cell_type": "markdown",
   "metadata": {},
   "source": [
    "## Rewrite the code:"
   ]
  },
  {
   "cell_type": "code",
   "execution_count": 306,
   "metadata": {},
   "outputs": [],
   "source": [
    "X = np.array([[1,2,3],[4,5,6],[7,8,9]])"
   ]
  },
  {
   "cell_type": "code",
   "execution_count": 307,
   "metadata": {},
   "outputs": [
    {
     "data": {
      "text/plain": [
       "array([[1, 2, 3],\n",
       "       [4, 5, 6],\n",
       "       [7, 8, 9]])"
      ]
     },
     "execution_count": 307,
     "metadata": {},
     "output_type": "execute_result"
    }
   ],
   "source": [
    "X"
   ]
  },
  {
   "cell_type": "code",
   "execution_count": 308,
   "metadata": {},
   "outputs": [],
   "source": [
    "alpha = np.random.randn(3,1)"
   ]
  },
  {
   "cell_type": "code",
   "execution_count": 309,
   "metadata": {},
   "outputs": [],
   "source": [
    "beta = np.random.randn(3,1)"
   ]
  },
  {
   "cell_type": "code",
   "execution_count": 310,
   "metadata": {},
   "outputs": [
    {
     "data": {
      "text/plain": [
       "array([[-0.76891509],\n",
       "       [ 0.98752512],\n",
       "       [-0.47577669]])"
      ]
     },
     "execution_count": 310,
     "metadata": {},
     "output_type": "execute_result"
    }
   ],
   "source": [
    "beta"
   ]
  },
  {
   "cell_type": "code",
   "execution_count": 311,
   "metadata": {},
   "outputs": [
    {
     "data": {
      "text/plain": [
       "array([[ -2.18291228e-01,  -1.01181404e-01,  -4.68991660e-02],\n",
       "       [  5.04496711e+01,   1.35436291e+02,   3.63589859e+02],\n",
       "       [  1.05299146e-02,   6.54331246e-03,   4.06602898e-03]])"
      ]
     },
     "execution_count": 311,
     "metadata": {},
     "output_type": "execute_result"
    }
   ],
   "source": [
    "alpha * np.exp(beta * X)"
   ]
  },
  {
   "cell_type": "markdown",
   "metadata": {},
   "source": [
    "## C."
   ]
  },
  {
   "cell_type": "markdown",
   "metadata": {},
   "source": [
    "## Original"
   ]
  },
  {
   "cell_type": "code",
   "execution_count": 326,
   "metadata": {},
   "outputs": [],
   "source": [
    "X = np.array([[1,2,3],[4,5,6],[7,8,9]])"
   ]
  },
  {
   "cell_type": "code",
   "execution_count": 328,
   "metadata": {},
   "outputs": [],
   "source": [
    "Y = np.array([[1,2,3],[4,5,6],[7,8,9]])"
   ]
  },
  {
   "cell_type": "code",
   "execution_count": 329,
   "metadata": {},
   "outputs": [],
   "source": [
    "n,d = X.shape\n",
    "m,d = Y.shape\n",
    "dist = np.zeros((n,m))\n",
    "for i in range(n):\n",
    "    for j in range(m):\n",
    "        for k in range(d):\n",
    "            dist[i,j] += (X[i,k] - Y[j,k]) **2"
   ]
  },
  {
   "cell_type": "code",
   "execution_count": 339,
   "metadata": {},
   "outputs": [
    {
     "data": {
      "text/plain": [
       "array([[   0.,   27.,  108.],\n",
       "       [  27.,    0.,   27.],\n",
       "       [ 108.,   27.,    0.]])"
      ]
     },
     "execution_count": 339,
     "metadata": {},
     "output_type": "execute_result"
    }
   ],
   "source": [
    "dist"
   ]
  },
  {
   "cell_type": "markdown",
   "metadata": {},
   "source": [
    "## Rewrite"
   ]
  },
  {
   "cell_type": "code",
   "execution_count": 337,
   "metadata": {},
   "outputs": [],
   "source": [
    "DXY = X[:,None,:] - Y[None,:,:]\n",
    "d = np.sum(DXY **2,axis = 2)"
   ]
  },
  {
   "cell_type": "code",
   "execution_count": 338,
   "metadata": {},
   "outputs": [
    {
     "data": {
      "text/plain": [
       "array([[  0,  27, 108],\n",
       "       [ 27,   0,  27],\n",
       "       [108,  27,   0]])"
      ]
     },
     "execution_count": 338,
     "metadata": {},
     "output_type": "execute_result"
    }
   ],
   "source": [
    "d"
   ]
  }
 ],
 "metadata": {
  "kernelspec": {
   "display_name": "PUI2016_Python3",
   "language": "python",
   "name": "pui2016_python3"
  },
  "language_info": {
   "codemirror_mode": {
    "name": "ipython",
    "version": 3
   },
   "file_extension": ".py",
   "mimetype": "text/x-python",
   "name": "python",
   "nbconvert_exporter": "python",
   "pygments_lexer": "ipython3",
   "version": "3.5.4"
  }
 },
 "nbformat": 4,
 "nbformat_minor": 2
}
